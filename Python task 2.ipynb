{
 "cells": [
  {
   "cell_type": "code",
   "execution_count": 1,
   "id": "e48fa0c3-6927-4643-af02-4e9d7124168e",
   "metadata": {},
   "outputs": [],
   "source": [
    "# Question no = 1"
   ]
  },
  {
   "cell_type": "code",
   "execution_count": 19,
   "id": "84d23f46-fcaf-4959-93de-a3dafd919329",
   "metadata": {},
   "outputs": [
    {
     "name": "stdin",
     "output_type": "stream",
     "text": [
      "Enter password here RAnjot@@@25\n"
     ]
    },
    {
     "name": "stdout",
     "output_type": "stream",
     "text": [
      "Valid Password\n"
     ]
    }
   ],
   "source": [
    "l, u, p, d = 0, 0, 0, 0\n",
    "s = input(\"Enter password here\")\n",
    "capitalalphabets=\"ABCDEFGHIJKLMNOPQRSTUVWXYZ\"\n",
    "smallalphabets=\"abcdefghijklmnopqrstuvwxyz\"\n",
    "specialchar=\"$@_\"\n",
    "digits=\"0123456789\"\n",
    "if (len(s) >= 10):\n",
    "    for i in s:\n",
    " \n",
    "        # counting lowercase alphabets\n",
    "        if (i in smallalphabets):\n",
    "            l+=1           \n",
    " \n",
    "        # counting uppercase alphabets\n",
    "        if (i in capitalalphabets):\n",
    "            u+=1           \n",
    " \n",
    "        # counting digits\n",
    "        if (i in digits):\n",
    "            d+=1           \n",
    " \n",
    "        # counting the mentioned special characters\n",
    "        if(i in specialchar):\n",
    "            p+=1       \n",
    "if (l>=2 and u>=2 and p>=3 and d>=2 and l+p+u+d==len(s)):\n",
    "    print(\"Valid Password\")\n",
    "else:\n",
    "    print(\"Invalid Password\")"
   ]
  },
  {
   "cell_type": "code",
   "execution_count": 20,
   "id": "35df8a12-03f2-446b-bc65-258c9e79524d",
   "metadata": {},
   "outputs": [],
   "source": [
    "#  Question no 2"
   ]
  },
  {
   "cell_type": "code",
   "execution_count": 22,
   "id": "0e9c91fb-e3ea-4085-9b2f-e57c026feaf7",
   "metadata": {},
   "outputs": [],
   "source": [
    "# Check if the string starts with a particular letter."
   ]
  },
  {
   "cell_type": "code",
   "execution_count": 69,
   "id": "262c3526-b663-415c-9f1c-d689121c192b",
   "metadata": {},
   "outputs": [],
   "source": [
    "string = \"pwskills\""
   ]
  },
  {
   "cell_type": "code",
   "execution_count": 70,
   "id": "efa26e3c-9801-49af-884d-24576edcfce4",
   "metadata": {},
   "outputs": [],
   "source": [
    "check = [\"Yes\" for i in string if i==\"p\" ]"
   ]
  },
  {
   "cell_type": "code",
   "execution_count": 71,
   "id": "90b14309-5755-47cc-a300-a499c45063ef",
   "metadata": {},
   "outputs": [
    {
     "name": "stdout",
     "output_type": "stream",
     "text": [
      "['Yes']\n"
     ]
    }
   ],
   "source": [
    "print(check)"
   ]
  },
  {
   "cell_type": "code",
   "execution_count": 32,
   "id": "63e36f63-448b-4de3-bcd5-20cead14e498",
   "metadata": {},
   "outputs": [],
   "source": [
    "# Check if the string is numericY"
   ]
  },
  {
   "cell_type": "code",
   "execution_count": 68,
   "id": "3f9fae08-e620-4bc9-8794-7a85de43f70a",
   "metadata": {},
   "outputs": [
    {
     "data": {
      "text/plain": [
       "[]"
      ]
     },
     "execution_count": 68,
     "metadata": {},
     "output_type": "execute_result"
    }
   ],
   "source": [
    "[\"Yes\" for i in string if i==1234567890]"
   ]
  },
  {
   "cell_type": "code",
   "execution_count": 44,
   "id": "269d3b1a-8b2d-4695-a1f4-7f769aa867f7",
   "metadata": {},
   "outputs": [],
   "source": [
    "# Sort a list of tuples having fruit names and their quantity. [(\"mango\",99),(\"orange\",80), (\"grapes\", 1000)."
   ]
  },
  {
   "cell_type": "code",
   "execution_count": 45,
   "id": "d19e1440-7cba-4891-b834-7000a2a49ebb",
   "metadata": {},
   "outputs": [],
   "source": [
    "list1 = [(\"mango\",99),(\"orange\",80),(\"grapes\",1000)]"
   ]
  },
  {
   "cell_type": "code",
   "execution_count": 206,
   "id": "ebcc93ac-07ce-4b73-ba78-67db95f52857",
   "metadata": {},
   "outputs": [],
   "source": [
    "list1.sort(key = lambda x: x[1])"
   ]
  },
  {
   "cell_type": "code",
   "execution_count": 207,
   "id": "4e0296c1-c67c-4156-86ee-54c7d09e6d75",
   "metadata": {},
   "outputs": [
    {
     "name": "stdout",
     "output_type": "stream",
     "text": [
      "[('orange', 80), ('mango', 99), ('grapes', 1000)]\n"
     ]
    }
   ],
   "source": [
    "print(list1)"
   ]
  },
  {
   "cell_type": "code",
   "execution_count": 53,
   "id": "2c79f088-c1a3-4ee9-9b2c-f3d0fe356272",
   "metadata": {},
   "outputs": [],
   "source": [
    "# Find the squares of numbers from 1 to 10."
   ]
  },
  {
   "cell_type": "code",
   "execution_count": 54,
   "id": "94f3a1e0-b23f-43c8-9bcd-4b8d496c73f4",
   "metadata": {},
   "outputs": [],
   "source": [
    "l = list(range(1,11))"
   ]
  },
  {
   "cell_type": "code",
   "execution_count": 61,
   "id": "7a9f4b5b-d6c8-4f68-8ed2-70651c2432a0",
   "metadata": {},
   "outputs": [
    {
     "data": {
      "text/plain": [
       "[1, 4, 9, 16, 25, 36, 49, 64, 81, 100]"
      ]
     },
     "execution_count": 61,
     "metadata": {},
     "output_type": "execute_result"
    }
   ],
   "source": [
    "[i**2 for i in l]"
   ]
  },
  {
   "cell_type": "code",
   "execution_count": 62,
   "id": "74adb72c-67a4-4cd0-90c5-965cdd91407f",
   "metadata": {},
   "outputs": [],
   "source": [
    "# Find the cube root of numbers from 1 to 10."
   ]
  },
  {
   "cell_type": "code",
   "execution_count": 63,
   "id": "397eea5d-7a84-43c3-bf0c-a67b7e751909",
   "metadata": {},
   "outputs": [
    {
     "data": {
      "text/plain": [
       "[1, 8, 27, 64, 125, 216, 343, 512, 729, 1000]"
      ]
     },
     "execution_count": 63,
     "metadata": {},
     "output_type": "execute_result"
    }
   ],
   "source": [
    "[i**3 for i in range(1,11)]"
   ]
  },
  {
   "cell_type": "code",
   "execution_count": 64,
   "id": "2a06dc34-1e27-4e2c-a47f-64a15439fbfb",
   "metadata": {},
   "outputs": [],
   "source": [
    "# Check if a given number is even."
   ]
  },
  {
   "cell_type": "code",
   "execution_count": 198,
   "id": "d4ea63b6-e264-4e74-825b-dfd247f48659",
   "metadata": {},
   "outputs": [],
   "source": [
    "def even_fun(l2):\n",
    "    n=l2\n",
    "    \n",
    "    if n % 2 != 0:\n",
    "        print(\"This is not even number\")\n",
    "    else:\n",
    "        print(\"This is even number\")\n"
   ]
  },
  {
   "cell_type": "code",
   "execution_count": 199,
   "id": "52bcdce3-5897-473b-b3ab-e774986587fd",
   "metadata": {},
   "outputs": [],
   "source": [
    "l2 = [12,45,36]"
   ]
  },
  {
   "cell_type": "code",
   "execution_count": 200,
   "id": "108a1a2d-4564-4f0c-bf9e-a9b96254a164",
   "metadata": {},
   "outputs": [
    {
     "name": "stdout",
     "output_type": "stream",
     "text": [
      "This is even number\n",
      "This is not even number\n",
      "This is even number\n"
     ]
    },
    {
     "data": {
      "text/plain": [
       "[None, None, None]"
      ]
     },
     "execution_count": 200,
     "metadata": {},
     "output_type": "execute_result"
    }
   ],
   "source": [
    "list(map(even_fun,l2))"
   ]
  },
  {
   "cell_type": "code",
   "execution_count": 102,
   "id": "120c45da-ced7-4494-9276-66a76adf370d",
   "metadata": {},
   "outputs": [],
   "source": [
    "# Filter odd numbers from the given list."
   ]
  },
  {
   "cell_type": "code",
   "execution_count": 103,
   "id": "29fa4d94-8a60-4a6b-af66-3da42322eee0",
   "metadata": {},
   "outputs": [],
   "source": [
    "l3 = [1,2,3,4,5,6,7,8,9,10]"
   ]
  },
  {
   "cell_type": "code",
   "execution_count": 120,
   "id": "c8647df4-5adf-42a7-9f27-d245b609dc52",
   "metadata": {},
   "outputs": [
    {
     "data": {
      "text/plain": [
       "[1, 3, 5, 7, 9]"
      ]
     },
     "execution_count": 120,
     "metadata": {},
     "output_type": "execute_result"
    }
   ],
   "source": [
    "list(filter(lambda x : x%2 !=0,l3))"
   ]
  },
  {
   "cell_type": "code",
   "execution_count": 121,
   "id": "af3fafbf-9cb7-48ca-bbfd-4e57cfea20a4",
   "metadata": {},
   "outputs": [],
   "source": [
    "# Sort a list of integers into positive and negative integers lists."
   ]
  },
  {
   "cell_type": "code",
   "execution_count": 148,
   "id": "0407ec59-eed1-408b-adb9-f4c40b612d35",
   "metadata": {},
   "outputs": [],
   "source": [
    "l4= [1,2,3,4,5,6,-1,-2,-3,-4,-5,0]"
   ]
  },
  {
   "cell_type": "code",
   "execution_count": 149,
   "id": "82889bf6-0673-460c-8cce-8614dd351ba3",
   "metadata": {},
   "outputs": [],
   "source": [
    "positive = []\n",
    "negative = []\n",
    "def sort_1(l4):\n",
    "    for i in l4:\n",
    "        if i <0:\n",
    "            negative.append(i)\n",
    "            negative.sort()\n",
    "        elif i>0:\n",
    "            positive.append(i)\n",
    "            positive.sort()\n",
    "    return positive, negative"
   ]
  },
  {
   "cell_type": "code",
   "execution_count": 150,
   "id": "aff56dc7-d500-4f8a-ad30-946de4e9cff5",
   "metadata": {},
   "outputs": [
    {
     "data": {
      "text/plain": [
       "([1, 2, 3, 4, 5, 6], [-5, -4, -3, -2, -1])"
      ]
     },
     "execution_count": 150,
     "metadata": {},
     "output_type": "execute_result"
    }
   ],
   "source": [
    "sort_1(l4)"
   ]
  },
  {
   "cell_type": "code",
   "execution_count": 166,
   "id": "0464e190-3ade-4ed6-b444-7be4c24a9c73",
   "metadata": {},
   "outputs": [],
   "source": [
    " def sort11(arr):\n",
    "        return [x for x in arr if x < 0] + [x for x in arr if x >= 0]"
   ]
  },
  {
   "cell_type": "code",
   "execution_count": 168,
   "id": "13878493-a794-44c2-bc65-ee50b7af77f2",
   "metadata": {},
   "outputs": [],
   "source": [
    "k = sort11(l4)"
   ]
  },
  {
   "cell_type": "code",
   "execution_count": 169,
   "id": "68da0833-36cc-4c1f-83bc-598f74ca03d6",
   "metadata": {},
   "outputs": [
    {
     "data": {
      "text/plain": [
       "[-1, -2, -3, -4, -5, 1, 2, 3, 4, 5, 6, 0]"
      ]
     },
     "execution_count": 169,
     "metadata": {},
     "output_type": "execute_result"
    }
   ],
   "source": [
    "k"
   ]
  },
  {
   "cell_type": "code",
   "execution_count": 170,
   "id": "913d8d93-f900-49fc-8a2c-8e5c9bcc090a",
   "metadata": {},
   "outputs": [],
   "source": [
    "k.sort()"
   ]
  },
  {
   "cell_type": "code",
   "execution_count": 171,
   "id": "4e56f72a-c492-4e47-8ec4-77ed8dab19ba",
   "metadata": {},
   "outputs": [
    {
     "data": {
      "text/plain": [
       "[-5, -4, -3, -2, -1, 0, 1, 2, 3, 4, 5, 6]"
      ]
     },
     "execution_count": 171,
     "metadata": {},
     "output_type": "execute_result"
    }
   ],
   "source": [
    "k"
   ]
  }
 ],
 "metadata": {
  "kernelspec": {
   "display_name": "Python 3 (ipykernel)",
   "language": "python",
   "name": "python3"
  },
  "language_info": {
   "codemirror_mode": {
    "name": "ipython",
    "version": 3
   },
   "file_extension": ".py",
   "mimetype": "text/x-python",
   "name": "python",
   "nbconvert_exporter": "python",
   "pygments_lexer": "ipython3",
   "version": "3.10.8"
  }
 },
 "nbformat": 4,
 "nbformat_minor": 5
}
